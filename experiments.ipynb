{
 "cells": [
  {
   "cell_type": "code",
   "execution_count": 1,
   "id": "f24359d2",
   "metadata": {},
   "outputs": [
    {
     "name": "stdout",
     "output_type": "stream",
     "text": [
      "Note: you may need to restart the kernel to use updated packages.\n"
     ]
    },
    {
     "name": "stderr",
     "output_type": "stream",
     "text": [
      "ERROR: pip's dependency resolver does not currently take into account all the packages that are installed. This behaviour is the source of the following dependency conflicts.\n",
      "keras 3.5.0 requires ml-dtypes, which is not installed.\n",
      "tensorflow-intel 2.17.0 requires ml-dtypes<0.5.0,>=0.3.1, which is not installed.\n",
      "tensorflow-intel 2.17.0 requires tensorboard<2.18,>=2.17, which is not installed.\n",
      "crewai-tools 0.51.1 requires embedchain>=0.1.114, which is not installed.\n",
      "streamlit 1.39.0 requires protobuf<6,>=3.20, but you have protobuf 6.31.1 which is incompatible.\n",
      "tensorflow-intel 2.17.0 requires protobuf!=4.21.0,!=4.21.1,!=4.21.2,!=4.21.3,!=4.21.4,!=4.21.5,<5.0.0dev,>=3.20.3, but you have protobuf 6.31.1 which is incompatible.\n"
     ]
    }
   ],
   "source": [
    "%pip install --upgrade --quiet pinecone-client pinecone-text pinecone-notebooks"
   ]
  },
  {
   "cell_type": "code",
   "execution_count": null,
   "id": "5384e564",
   "metadata": {},
   "outputs": [],
   "source": [
    "from dotenv import load_dotenv()\n",
    "load_dotenv()"
   ]
  },
  {
   "cell_type": "code",
   "execution_count": null,
   "id": "4bff1308",
   "metadata": {},
   "outputs": [],
   "source": [
    "\n"
   ]
  },
  {
   "cell_type": "code",
   "execution_count": null,
   "id": "2adb421f",
   "metadata": {},
   "outputs": [],
   "source": [
    "%pip uninstall pinecone-client"
   ]
  },
  {
   "cell_type": "code",
   "execution_count": null,
   "id": "208496dc",
   "metadata": {},
   "outputs": [],
   "source": [
    "%pip install pinecone"
   ]
  },
  {
   "cell_type": "code",
   "execution_count": 3,
   "id": "14acb05b",
   "metadata": {},
   "outputs": [],
   "source": [
    "from langchain_community.retrievers import PineconeHybridSearchRetriever"
   ]
  },
  {
   "cell_type": "code",
   "execution_count": null,
   "id": "99df5947",
   "metadata": {},
   "outputs": [
    {
     "ename": "Exception",
     "evalue": "The official Pinecone python package has been renamed from `pinecone-client` to `pinecone`. Please remove `pinecone-client` from your project dependencies and add `pinecone` instead. See the README at https://github.com/pinecone-io/pinecone-python-client for more information on using the python SDK.",
     "output_type": "error",
     "traceback": [
      "\u001b[1;31m---------------------------------------------------------------------------\u001b[0m",
      "\u001b[1;31mException\u001b[0m                                 Traceback (most recent call last)",
      "Cell \u001b[1;32mIn[4], line 2\u001b[0m\n\u001b[0;32m      1\u001b[0m \u001b[38;5;28;01mimport\u001b[39;00m \u001b[38;5;21;01mos\u001b[39;00m\n\u001b[1;32m----> 2\u001b[0m \u001b[38;5;28;01mfrom\u001b[39;00m \u001b[38;5;21;01mpinecone\u001b[39;00m \u001b[38;5;28;01mimport\u001b[39;00m Pinecone,ServerlessSpec\n\u001b[0;32m      3\u001b[0m index_name\u001b[38;5;241m=\u001b[39m\u001b[38;5;124m\"\u001b[39m\u001b[38;5;124mhybrid-search-langchain-pinecone\u001b[39m\u001b[38;5;124m\"\u001b[39m\n\u001b[0;32m      5\u001b[0m \u001b[38;5;66;03m## Initialising the pinecone client\u001b[39;00m\n",
      "File \u001b[1;32mc:\\Users\\ritik\\anaconda3\\envs\\venv\\lib\\site-packages\\pinecone\\__init__.py:5\u001b[0m\n\u001b[0;32m      1\u001b[0m \u001b[38;5;124;03m\"\"\"\u001b[39;00m\n\u001b[0;32m      2\u001b[0m \u001b[38;5;124;03m.. include:: ../README.md\u001b[39;00m\n\u001b[0;32m      3\u001b[0m \u001b[38;5;124;03m\"\"\"\u001b[39;00m\n\u001b[1;32m----> 5\u001b[0m \u001b[38;5;28;01mraise\u001b[39;00m \u001b[38;5;167;01mException\u001b[39;00m(\n\u001b[0;32m      6\u001b[0m     \u001b[38;5;124m\"\u001b[39m\u001b[38;5;124mThe official Pinecone python package has been renamed from `pinecone-client` to `pinecone`. Please remove `pinecone-client` from your project dependencies and add `pinecone` instead. See the README at https://github.com/pinecone-io/pinecone-python-client for more information on using the python SDK.\u001b[39m\u001b[38;5;124m\"\u001b[39m\n\u001b[0;32m      7\u001b[0m )\n",
      "\u001b[1;31mException\u001b[0m: The official Pinecone python package has been renamed from `pinecone-client` to `pinecone`. Please remove `pinecone-client` from your project dependencies and add `pinecone` instead. See the README at https://github.com/pinecone-io/pinecone-python-client for more information on using the python SDK."
     ]
    }
   ],
   "source": [
    "import os\n",
    "from pinecone import Pinecone,ServerlessSpec\n",
    "index_name=\"hybrid-search-langchain-pinecone\"\n",
    "\n",
    "api_key=os.getenv(\"PINECONE_API_KEY\")\n",
    "\n",
    "## Initialising the pinecone client\n",
    "pc=Pinecone(api_key=api_key)\n",
    "\n",
    "## Creating the index\n",
    "if index_name not in pc.list_indexes().names():\n",
    "    pc.create_index(\n",
    "        name=index_name,\n",
    "        dimension=384, ## Dimension of the dense vector\n",
    "        metric='dotproduct',\n",
    "        spec=ServerlessSpec(cloud='aws',region=\"us-east-1\")\n",
    "    )"
   ]
  },
  {
   "cell_type": "code",
   "execution_count": null,
   "id": "7dab28c0",
   "metadata": {},
   "outputs": [],
   "source": [
    "index=pc.Index(index_name)\n",
    "index"
   ]
  },
  {
   "cell_type": "code",
   "execution_count": null,
   "id": "68219083",
   "metadata": {},
   "outputs": [],
   "source": [
    "## Vector embedding\n",
    "os.environ[\"HF_TOKEN\"]=os.getenv(\"HF_TOKEN\")\n",
    "from langchain_huggingface import HuggingFaceEmbeddings\n",
    "embeddings=HuggingFaceEmbeddings(model_name=\"all-MiniLM-L6-v2\")\n",
    "embeddings"
   ]
  },
  {
   "cell_type": "code",
   "execution_count": null,
   "id": "bc96773b",
   "metadata": {},
   "outputs": [],
   "source": [
    "## Sparse matrix\n",
    "from pinecone_text.sparse import BM25Encoder\n",
    "\n",
    "bm25_encoder=BM25Encoder().default()\n",
    "bm25_encoder"
   ]
  },
  {
   "cell_type": "code",
   "execution_count": null,
   "id": "ecc96e97",
   "metadata": {},
   "outputs": [],
   "source": [
    "sentences=[\n",
    "    \"In 2022, I visited New York\",\n",
    "    \"In 2021,I visited New Orleans\"\n",
    "]\n",
    "\n",
    "## tfidf va;ues of the sentences\n",
    "bm25_encoder.fit(sentences)\n",
    "\n",
    "## store the values to a jsoan fie\n",
    "bm25_encoder.dump(\"bm25_values.json\")"
   ]
  },
  {
   "cell_type": "code",
   "execution_count": null,
   "id": "fc780f6c",
   "metadata": {},
   "outputs": [],
   "source": [
    "retriever=PineconeHybridSearchRetriever(embeddings=embeddings,sparse_encoder=bm25_encoder,index=index)"
   ]
  },
  {
   "cell_type": "code",
   "execution_count": null,
   "id": "8524e1e6",
   "metadata": {},
   "outputs": [],
   "source": [
    "retriever.add_texts(\n",
    "    [\n",
    "    \"In 2022, I visited New York\",\n",
    "    \"In 2021,I visited New Orleans\"\n",
    "]\n",
    ")"
   ]
  },
  {
   "cell_type": "code",
   "execution_count": null,
   "id": "10d1313c",
   "metadata": {},
   "outputs": [],
   "source": [
    "retriever.invoke(\"what city did i visit last\")"
   ]
  },
  {
   "cell_type": "code",
   "execution_count": null,
   "id": "6c6de06e",
   "metadata": {},
   "outputs": [],
   "source": []
  }
 ],
 "metadata": {
  "kernelspec": {
   "display_name": "venv",
   "language": "python",
   "name": "python3"
  },
  "language_info": {
   "codemirror_mode": {
    "name": "ipython",
    "version": 3
   },
   "file_extension": ".py",
   "mimetype": "text/x-python",
   "name": "python",
   "nbconvert_exporter": "python",
   "pygments_lexer": "ipython3",
   "version": "3.10.0"
  }
 },
 "nbformat": 4,
 "nbformat_minor": 5
}
